{
 "cells": [
  {
   "cell_type": "code",
   "execution_count": 11,
   "id": "initial_id",
   "metadata": {
    "collapsed": true,
    "ExecuteTime": {
     "end_time": "2024-03-03T22:42:07.646851Z",
     "start_time": "2024-03-03T22:42:07.525728Z"
    }
   },
   "outputs": [],
   "source": [
    "from collections import Counter\n",
    "import torch\n",
    "import torch.nn as nn\n",
    "from torch.optim import Adam\n",
    "import random\n",
    "import numpy as np\n",
    "import math\n",
    "\n",
    "device = torch.device(\"cuda\" if torch.cuda.is_available() else \"cpu\")\n"
   ]
  },
  {
   "cell_type": "code",
   "execution_count": null,
   "outputs": [],
   "source": [
    "!nvidia-smi"
   ],
   "metadata": {
    "collapsed": false
   },
   "id": "cf951427df1f73ea"
  },
  {
   "cell_type": "code",
   "execution_count": 12,
   "outputs": [],
   "source": [
    "#Hyperparameters\n",
    "embed_size = 100#size for each word embedding\n",
    "hidden_size=256\n",
    "num_layers=1\n",
    "num_epochs=2\n",
    "batch_size=1000\n",
    "dropout_rate=0.5\n",
    "sequence_length=1#no of words in a sequence\n",
    "word_frequency=15\n",
    "learning_rate=0.01\n",
    "\n",
    "seed = 42\n",
    "torch.manual_seed(seed)\n",
    "random.seed(seed)\n",
    "np.random.seed(seed)\n"
   ],
   "metadata": {
    "collapsed": false,
    "ExecuteTime": {
     "end_time": "2024-03-03T22:42:10.692546Z",
     "start_time": "2024-03-03T22:42:10.573215Z"
    }
   },
   "id": "d10a96682a1c150e"
  },
  {
   "cell_type": "code",
   "execution_count": 13,
   "outputs": [],
   "source": [
    "#Data Preprocessing\n",
    "\n",
    "#read the file\n",
    "#convert the words in integers\n",
    "def read_file(file):\n",
    "    with open(file, 'r', encoding='utf-8') as f:\n",
    "        text = f.read()\n",
    "    return text\n",
    "\n",
    "# Function to build vocabulary\n",
    "def build_vocab(text, frequency=20):\n",
    "    words = text.split()\n",
    "    word_count = Counter(words)\n",
    "\n",
    "    word_dict = {'<unk>': 0}\n",
    "    current_index = 1\n",
    "\n",
    "    for word, freq in word_count.items():\n",
    "        if freq > frequency:\n",
    "            word_dict[word] = current_index\n",
    "            current_index += 1\n",
    "    return word_dict\n",
    "\n",
    "\n",
    "def tokenize(text, word_dict):\n",
    "    words = text.split()\n",
    "    int_text = [word_dict.get(word, word_dict['<unk>']) for word in words]\n",
    "    return int_text\n",
    "\n",
    "\n",
    "def create_sequences_and_labels(int_text, sequence_length):\n",
    "    sequences = []\n",
    "    labels = []\n",
    "\n",
    "    for i in range(0, len(int_text) - sequence_length-1):\n",
    "        # Select a sequence of integers as the input\n",
    "        sequence = int_text[i:i + sequence_length]\n",
    "        sequences.append(sequence)\n",
    "        \n",
    "        # Select the next integer (word) as the label\n",
    "        label_sequence = int_text[i+1:i+sequence_length+1]\n",
    "        labels.append(label_sequence)\n",
    "\n",
    "    return sequences, labels\n"
   ],
   "metadata": {
    "collapsed": false,
    "ExecuteTime": {
     "end_time": "2024-03-03T22:42:13.063584Z",
     "start_time": "2024-03-03T22:42:12.996353Z"
    }
   },
   "id": "eb3dba16e15dbc6f"
  },
  {
   "cell_type": "code",
   "execution_count": 14,
   "outputs": [],
   "source": [
    "#Data Preprocessing\n",
    "\n",
    "#train data\n",
    "\n",
    "train_text=read_file('wiki2.train.txt')\n",
    "train_vocab = build_vocab(train_text)\n",
    "vocab_size=len(train_vocab)+1\n",
    "train_int_text = tokenize(train_text, train_vocab)\n",
    "input_sequences,labels=create_sequences_and_labels(train_int_text,sequence_length)\n",
    "\n",
    "#validation data\n",
    "valid_text=read_file('wiki2.valid.txt')\n",
    "valid_int_text = tokenize(valid_text, train_vocab) # Use the same word_dict as the training data\n",
    "input_sequences_val,labels_val=create_sequences_and_labels(valid_int_text,sequence_length)\n",
    "\n",
    "\n",
    "\n",
    "#validation data\n",
    "test_text=read_file('wiki2.test.txt')\n",
    "test_int_text = tokenize(test_text, train_vocab)\n",
    "input_sequences_test,labels_test=create_sequences_and_labels(test_int_text,sequence_length)\n",
    "\n",
    "\n",
    "\n",
    "\n",
    "\n",
    "\n",
    "\n",
    "\n",
    "\n",
    "\n",
    "\n"
   ],
   "metadata": {
    "collapsed": false,
    "ExecuteTime": {
     "end_time": "2024-03-03T22:42:23.503633Z",
     "start_time": "2024-03-03T22:42:16.374093Z"
    }
   },
   "id": "51bcffbbb73b14a4"
  },
  {
   "cell_type": "code",
   "execution_count": 15,
   "outputs": [
    {
     "name": "stdout",
     "output_type": "stream",
     "text": [
      "torch.Size([2051908, 1])\n",
      "torch.Size([2051908, 1])\n"
     ]
    }
   ],
   "source": [
    "from torch.utils.data import DataLoader, TensorDataset\n",
    "\n",
    "# Convert sequences and labels into PyTorch tensors\n",
    "train_data_tensor = torch.tensor(input_sequences)\n",
    "train_labels_tensor = torch.tensor(labels)\n",
    "print(train_data_tensor.size())\n",
    "print(train_labels_tensor.size())\n",
    "\n",
    "# Create a dataset and data loader\n",
    "dataset_train = TensorDataset(train_data_tensor, train_labels_tensor)\n",
    "data_loader_train = DataLoader(dataset_train, batch_size=batch_size, shuffle=True)\n",
    "\n",
    "\n",
    "#validation data\n",
    "val_data_tensor = torch.tensor(input_sequences_val)\n",
    "val_labels_tensor = torch.tensor(labels_val)\n",
    "\n",
    "dataset_valid= TensorDataset(val_data_tensor, val_labels_tensor)\n",
    "data_loader_valid = DataLoader(dataset_valid, batch_size=batch_size, shuffle=False)\n",
    "\n",
    "# Create a dataset and data loader for test\n",
    "test_data_tensor = torch.tensor(input_sequences_test)\n",
    "test_labels_tensor = torch.tensor(labels_test)\n",
    "\n",
    "datsset_test= TensorDataset(test_data_tensor, test_labels_tensor)\n",
    "data_loader_test = DataLoader(datsset_test, batch_size=batch_size, shuffle=False)\n"
   ],
   "metadata": {
    "collapsed": false,
    "ExecuteTime": {
     "end_time": "2024-03-03T22:42:27.908741Z",
     "start_time": "2024-03-03T22:42:27.116170Z"
    }
   },
   "id": "38b15315ece35a32"
  },
  {
   "cell_type": "code",
   "execution_count": 16,
   "outputs": [],
   "source": [
    "#RNN Architecture\n",
    "\n",
    "class RNNModel(nn.Module):\n",
    "    def __init__(self, vocab_size, embed_size, hidden_size, num_layers, dropout_rate):\n",
    "        super(RNNModel, self).__init__()\n",
    "        self.hidden_size = hidden_size\n",
    "        self.num_layers = num_layers\n",
    "        self.embedding = nn.Embedding(vocab_size, embed_size)\n",
    "        self.RNN=nn.RNN(embed_size,hidden_size,batch_first=True)\n",
    "        self.dropout = nn.Dropout(dropout_rate)\n",
    "        self.fc = nn.Linear(hidden_size, vocab_size)\n",
    "        \n",
    "    def forward(self,x,prev_state):\n",
    "        embed = self.embedding(x)\n",
    "        out,state=self.RNN(embed,prev_state)\n",
    "        out = self.dropout(out)\n",
    "        out = self.fc(out)\n",
    "        return out,state\n",
    "    \n",
    "    def init_state(self, batch_size):\n",
    "        return torch.zeros(1,batch_size, self.hidden_size).to(device) #no of layers=1\n",
    "    \n",
    "        "
   ],
   "metadata": {
    "collapsed": false,
    "ExecuteTime": {
     "end_time": "2024-03-03T22:42:31.458503Z",
     "start_time": "2024-03-03T22:42:31.410501Z"
    }
   },
   "id": "7716a02341f9d208"
  },
  {
   "cell_type": "code",
   "execution_count": 17,
   "outputs": [],
   "source": [
    "#Instantiating the model\n",
    "\n",
    "model = RNNModel(vocab_size, embed_size, hidden_size,1, dropout_rate).to(device)\n",
    "criterion = nn.CrossEntropyLoss()\n",
    "optimizer = Adam(model.parameters(),lr=learning_rate)\n"
   ],
   "metadata": {
    "collapsed": false,
    "ExecuteTime": {
     "end_time": "2024-03-03T22:42:33.653963Z",
     "start_time": "2024-03-03T22:42:33.499735Z"
    }
   },
   "id": "4995a3264e1bf74"
  },
  {
   "cell_type": "code",
   "execution_count": 18,
   "outputs": [],
   "source": [
    "def train(model, train_loader, epochs, batch_size):\n",
    "        model.train()\n",
    "        train_perplexities = []\n",
    "        val_perplexities = []\n",
    "    \n",
    "        for epoch in range(epochs):\n",
    "            total_loss = 0\n",
    "            total_nll = 0  # Total negative log likelihood for the training set\n",
    "            total_words = 0  # Total number of words (excluding padding)\n",
    "    \n",
    "            for batch, (x, y) in enumerate(train_loader):\n",
    "                x, y = x.to(device), y.to(device)  # Move data to the device\n",
    "                batch_size = x.size(0)\n",
    "                state_h = model.init_state(batch_size).to(device) \n",
    "                optimizer.zero_grad()\n",
    "    \n",
    "                y_pred, state_h = model(x, state_h)\n",
    "                loss = criterion(y_pred.transpose(1, 2), y)\n",
    "                total_loss += loss.item()* batch_size\n",
    "    \n",
    "                loss.backward()\n",
    "                optimizer.step()\n",
    "                state_h = state_h.detach()\n",
    "    \n",
    "            avg_train_loss = total_loss / len(train_loader.dataset)\n",
    "            train_perplexity = math.exp(avg_train_loss)\n",
    "            train_perplexities.append(train_perplexity)\n",
    "    \n",
    "            print(f'Epoch {epoch} Train Perplexity: {train_perplexity}')\n",
    "            # Validation loop\n",
    "            model.eval()\n",
    "            with torch.no_grad():\n",
    "                total_val_loss = 0\n",
    "    \n",
    "            for batch, (x, y) in enumerate(data_loader_valid):\n",
    "                x, y = x.to(device), y.to(device) \n",
    "                batch_size = x.size(0)\n",
    "                state_h = model.init_state(batch_size)\n",
    "    \n",
    "                y_pred, state_h = model(x, state_h)\n",
    "                loss = criterion(y_pred.transpose(1, 2), y)\n",
    "                total_val_loss += loss.item() * batch_size  # Multiply by batch_size to get total loss\n",
    "    \n",
    "            # Calculate average validation loss and perplexity\n",
    "            avg_val_loss = total_val_loss / len(data_loader_valid.dataset)\n",
    "            val_perplexity = math.exp(avg_val_loss)\n",
    "            val_perplexities.append(val_perplexity)\n",
    "    \n",
    "            print(f\"Epoch {epoch} - \"\n",
    "              f\"Train Loss: {avg_train_loss:.3f}, \"\n",
    "              f\"Train Perplexity: {train_perplexity:.3f}, \"\n",
    "              f\"Val Loss: {avg_val_loss:.3f}, \"\n",
    "              f\"Val Perplexity: {val_perplexity:.3f}\")\n",
    "        \n",
    "        return train_perplexities, val_perplexities\n",
    "    \n"
   ],
   "metadata": {
    "collapsed": false,
    "ExecuteTime": {
     "end_time": "2024-03-03T22:42:35.876465Z",
     "start_time": "2024-03-03T22:42:35.860148Z"
    }
   },
   "id": "3bbfa280d6452ae8"
  },
  {
   "cell_type": "code",
   "execution_count": 19,
   "outputs": [
    {
     "name": "stdout",
     "output_type": "stream",
     "text": [
      "Epoch 0 Train Perplexity: 289.638907397432\n",
      "Epoch 0 - Train Loss: 5.669, Train Perplexity: 289.639, Val Loss: 5.192, Val Perplexity: 179.834\n",
      "Epoch 1 Train Perplexity: 171.90149898499723\n",
      "Epoch 1 - Train Loss: 5.147, Train Perplexity: 171.901, Val Loss: 5.134, Val Perplexity: 169.733\n",
      "Training completed in 299.54 seconds\n"
     ]
    }
   ],
   "source": [
    "#Train the model\n",
    "import time\n",
    "\n",
    "#Train the model\n",
    "import time\n",
    "\n",
    "\n",
    "start_time = time.time()\n",
    "train_perplexities, val_perplexities =train(model,data_loader_train, num_epochs, batch_size) \n",
    "end_time = time.time() # Define data_loader and batch_size appropriately\n",
    "total_time = end_time - start_time\n",
    "print(f\"Training completed in {total_time:.2f} seconds\")\n",
    "\n",
    "torch.save(model.state_dict(), 'model_weights.pth')\n",
    "\n",
    "\n",
    "\n",
    "\n",
    "\n"
   ],
   "metadata": {
    "collapsed": false,
    "ExecuteTime": {
     "end_time": "2024-03-03T22:47:38.975103Z",
     "start_time": "2024-03-03T22:42:39.344936Z"
    }
   },
   "id": "1fbd8d57d28db13e"
  },
  {
   "cell_type": "code",
   "execution_count": null,
   "outputs": [],
   "source": [
    "import matplotlib.pyplot as plt\n",
    "\n",
    "# Plotting\n",
    "epochs = range(1, num_epochs + 1)\n",
    "plt.plot(epochs, train_perplexities, 'bo-', label='Training Perplexity')\n",
    "plt.plot(epochs, val_perplexities, 'ro-', label='Validation Perplexity')\n",
    "plt.title('Training and Validation Perplexity')\n",
    "plt.xlabel('Epochs')\n",
    "plt.ylabel('Perplexity')\n",
    "plt.legend()\n",
    "plt.show()"
   ],
   "metadata": {
    "collapsed": false
   },
   "id": "1d8fa89c7afb493e"
  },
  {
   "cell_type": "markdown",
   "source": [],
   "metadata": {
    "collapsed": false
   },
   "id": "4f7d2320b8424825"
  }
 ],
 "metadata": {
  "kernelspec": {
   "display_name": "Python 3",
   "language": "python",
   "name": "python3"
  },
  "language_info": {
   "codemirror_mode": {
    "name": "ipython",
    "version": 2
   },
   "file_extension": ".py",
   "mimetype": "text/x-python",
   "name": "python",
   "nbconvert_exporter": "python",
   "pygments_lexer": "ipython2",
   "version": "2.7.6"
  }
 },
 "nbformat": 4,
 "nbformat_minor": 5
}
